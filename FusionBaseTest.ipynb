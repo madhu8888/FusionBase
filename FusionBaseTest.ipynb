{
 "cells": [
  {
   "cell_type": "code",
   "execution_count": 2,
   "metadata": {},
   "outputs": [],
   "source": [
    "# import libraries \n",
    "import requests\n",
    "from requests import get\n",
    "import pandas as pd\n",
    "import urllib.request\n",
    "import zipfile\n",
    "import os\n",
    "from io import StringIO\n",
    "from apscheduler.schedulers.blocking import BlockingScheduler"
   ]
  },
  {
   "cell_type": "code",
   "execution_count": 3,
   "metadata": {},
   "outputs": [],
   "source": [
    "def ExtractContentsFromLink():\n",
    "    url = 'http://data.gdeltproject.org/gdeltv2/lastupdate.txt'\n",
    "    response = requests.get(url)\n",
    "    text = response.text\n",
    "    #print(response.text)\n",
    "    urlToExtractFile = text.split(\"\\n\")[0].split(\" \")[2]\n",
    "    #print(urlToExtractFile)\n",
    "    filehandle, _ = urllib.request.urlretrieve(urlToExtractFile)\n",
    "    #print(filehandle)\n",
    "    zip_file_object = zipfile.ZipFile(filehandle, 'r')\n",
    "    fileName = zip_file_object.namelist()[0]\n",
    "    #print(fileName)\n",
    "    fileContent = zip_file_object.open(fileName).read()\n",
    "    #print(fileContent)\n",
    "    Content = str(fileContent,'latin-1')\n",
    "    readFileDF = pd.read_csv(StringIO(Content), sep='\\t', header=None)\n",
    "    # because parquet must have string column names\n",
    "    readFileDF.columns = readFileDF.columns.astype(str)\n",
    "    print(len(readFileDF))\n",
    "    #readFileDF\n",
    "    ExtractContentsFromDiskIfExist(readFileDF)"
   ]
  },
  {
   "cell_type": "code",
   "execution_count": 4,
   "metadata": {},
   "outputs": [],
   "source": [
    "def ExtractContentsFromDiskIfExist(readFileDF):\n",
    "    if not(os.path.exists('outputOriginal.parquet')):\n",
    "        print(\"-----------Inside If-----------\")\n",
    "        #Creating a new parquet file and filling it with data recently extracted\n",
    "        readFileDF.to_parquet('outputOriginal.parquet')\n",
    "        #readFileDF.to_parquet('fusionbase.gzip',engine='fastparquet')\n",
    "        readFileDF.to_parquet('outputMerged.parquet')\n",
    "        print('created')\n",
    "\n",
    "    else:\n",
    "        print(\"-----------Inside Else-----------------\")\n",
    "        # \n",
    "        dfExistingOriginalFile = pd.read_parquet('outputOriginal.parquet')\n",
    "        print(\"Length of existing original\")\n",
    "        print(len(dfExistingOriginalFile))\n",
    "        dfExistingMergedFile = pd.read_parquet('outputMerged.parquet')\n",
    "        print(\"Length of existing merged\")\n",
    "        print(len(dfExistingMergedFile))\n",
    "        # replace existing Original file\n",
    "        readFileDF.to_parquet('outputOriginal.parquet',compression='gzip')\n",
    "        # merge with file and put back mergedFile\n",
    "        # 1. Check with the original's length and merge only then\n",
    "        #    merge the readFileDf and the dataframe formed by reafFileMerged i.e. outputMerged.parquet\n",
    "        # 2. remove duplicates\n",
    "        # 3. write the merged dataframe as parquet at the mentioned location\n",
    "        # Step 1 : merging dataframes\n",
    "        mergerdDF = readFileDF.append(dfExistingMergedFile, ignore_index = True)\n",
    "        print(\"Length after merging two dataframes\")\n",
    "        print(len(mergerdDF))\n",
    "        # Step 2. removing duplicates\n",
    "        duplicateRowsDF = mergerdDF[mergerdDF.duplicated()]\n",
    "        print(len(duplicateRowsDF))\n",
    "        mergerdDF.drop_duplicates(inplace=True)\n",
    "        print(\"Length after removing duplicates\")\n",
    "        print(len(mergerdDF))\n",
    "        # Step 3. creating merged file \n",
    "        mergerdDF.to_parquet('outputMerged.parquet',compression='gzip')\n",
    "        print('updated')"
   ]
  },
  {
   "cell_type": "code",
   "execution_count": null,
   "metadata": {},
   "outputs": [],
   "source": [
    "scheduler = BlockingScheduler()\n",
    "scheduler.add_job(ExtractContentsFromLink, 'interval', minutes=15)\n",
    "scheduler.start()"
   ]
  },
  {
   "cell_type": "code",
   "execution_count": null,
   "metadata": {},
   "outputs": [],
   "source": [
    "scheduler.shutdown()"
   ]
  }
 ],
 "metadata": {
  "kernelspec": {
   "display_name": "Python 3",
   "language": "python",
   "name": "python3"
  },
  "language_info": {
   "codemirror_mode": {
    "name": "ipython",
    "version": 3
   },
   "file_extension": ".py",
   "mimetype": "text/x-python",
   "name": "python",
   "nbconvert_exporter": "python",
   "pygments_lexer": "ipython3",
   "version": "3.7.6"
  }
 },
 "nbformat": 4,
 "nbformat_minor": 4
}
